{
 "cells": [
  {
   "cell_type": "markdown",
   "metadata": {
    "colab_type": "text",
    "id": "lP6JLo1tGNBg"
   },
   "source": [
    "# Artificial Neural Network"
   ]
  },
  {
   "cell_type": "markdown",
   "metadata": {
    "colab_type": "text",
    "id": "gWZyYmS_UE_L"
   },
   "source": [
    "### Importing the libraries"
   ]
  },
  {
   "cell_type": "code",
   "execution_count": 1,
   "metadata": {
    "colab": {},
    "colab_type": "code",
    "id": "MxkJoQBkUIHC"
   },
   "outputs": [],
   "source": [
    "import numpy as np\n",
    "import pandas as pd\n",
    "import tensorflow as tf\n",
    "from tensorflow import keras\n",
    "import keras.layers as layers"
   ]
  },
  {
   "cell_type": "code",
   "execution_count": 2,
   "metadata": {
    "colab": {
     "base_uri": "https://localhost:8080/",
     "height": 34
    },
    "colab_type": "code",
    "id": "ZaTwK7ojXr2F",
    "outputId": "0b27a96d-d11a-43e8-ab4b-87c1f01896fe"
   },
   "outputs": [
    {
     "data": {
      "text/plain": [
       "'2.17.0'"
      ]
     },
     "execution_count": 2,
     "metadata": {},
     "output_type": "execute_result"
    }
   ],
   "source": [
    "tf.__version__"
   ]
  },
  {
   "cell_type": "markdown",
   "metadata": {
    "colab_type": "text",
    "id": "1E0Q3aoKUCRX"
   },
   "source": [
    "## Part 1 - Data Preprocessing"
   ]
  },
  {
   "cell_type": "markdown",
   "metadata": {
    "colab_type": "text",
    "id": "cKWAkFVGUU0Z"
   },
   "source": [
    "### Importing the dataset"
   ]
  },
  {
   "cell_type": "code",
   "execution_count": 3,
   "metadata": {
    "colab": {},
    "colab_type": "code",
    "id": "MXUkhkMfU4wq"
   },
   "outputs": [],
   "source": [
    "dataset = pd.read_csv('Churn_Modelling.csv')\n",
    "X = dataset.iloc[:, 3:-1].values # write down here why we are using 3:-1 why these columns\n",
    "#In the first 3 columns there isnt much useful info as they are all unique to the person/not numerical\n",
    "#The next ones are things which have info which can either be columnized or can be numerically quantified\n",
    "y = dataset.iloc[:, -1].values"
   ]
  },
  {
   "cell_type": "code",
   "execution_count": 4,
   "metadata": {
    "colab": {
     "base_uri": "https://localhost:8080/",
     "height": 137
    },
    "colab_type": "code",
    "id": "VYP9cQTWbzuI",
    "outputId": "797e7a64-9bac-436a-8c9c-94437e5e7587"
   },
   "outputs": [
    {
     "name": "stdout",
     "output_type": "stream",
     "text": [
      "[[619 'France' 'Female' ... 1 1 101348.88]\n",
      " [608 'Spain' 'Female' ... 0 1 112542.58]\n",
      " [502 'France' 'Female' ... 1 0 113931.57]\n",
      " ...\n",
      " [709 'France' 'Female' ... 0 1 42085.58]\n",
      " [772 'Germany' 'Male' ... 1 0 92888.52]\n",
      " [792 'France' 'Female' ... 1 0 38190.78]]\n"
     ]
    }
   ],
   "source": [
    "print(X)"
   ]
  },
  {
   "cell_type": "code",
   "execution_count": 5,
   "metadata": {
    "colab": {
     "base_uri": "https://localhost:8080/",
     "height": 34
    },
    "colab_type": "code",
    "id": "38vKGE6Nb2RR",
    "outputId": "a815e42a-e0dd-4cb5-ab97-b17ead98fbc3"
   },
   "outputs": [
    {
     "name": "stdout",
     "output_type": "stream",
     "text": [
      "[1 0 1 ... 1 1 0]\n"
     ]
    }
   ],
   "source": [
    "print(y)"
   ]
  },
  {
   "cell_type": "markdown",
   "metadata": {
    "colab_type": "text",
    "id": "N6bQ0UgSU-NJ"
   },
   "source": [
    "### Encoding categorical data"
   ]
  },
  {
   "cell_type": "markdown",
   "metadata": {
    "colab_type": "text",
    "id": "le5MJreAbW52"
   },
   "source": [
    "Label Encoding the \"Gender\" column"
   ]
  },
  {
   "cell_type": "code",
   "execution_count": 6,
   "metadata": {
    "colab": {},
    "colab_type": "code",
    "id": "PxVKWXxLbczC"
   },
   "outputs": [],
   "source": [
    "from sklearn.preprocessing import LabelEncoder\n",
    "le = LabelEncoder()\n",
    "X[:,2]=le.fit_transform(X[:,2])"
   ]
  },
  {
   "cell_type": "code",
   "execution_count": 7,
   "metadata": {
    "colab": {
     "base_uri": "https://localhost:8080/",
     "height": 137
    },
    "colab_type": "code",
    "id": "-M1KboxFb6OO",
    "outputId": "e2b8c7e8-0cbc-4cdf-f4eb-7f0853a00b88"
   },
   "outputs": [
    {
     "name": "stdout",
     "output_type": "stream",
     "text": [
      "[[619 'France' 0 ... 1 1 101348.88]\n",
      " [608 'Spain' 0 ... 0 1 112542.58]\n",
      " [502 'France' 0 ... 1 0 113931.57]\n",
      " ...\n",
      " [709 'France' 0 ... 0 1 42085.58]\n",
      " [772 'Germany' 1 ... 1 0 92888.52]\n",
      " [792 'France' 0 ... 1 0 38190.78]]\n"
     ]
    }
   ],
   "source": [
    "print(X)"
   ]
  },
  {
   "cell_type": "markdown",
   "metadata": {
    "colab_type": "text",
    "id": "CUxGZezpbMcb"
   },
   "source": [
    "One Hot Encoding the \"Geography\" column"
   ]
  },
  {
   "cell_type": "code",
   "execution_count": 8,
   "metadata": {
    "colab": {},
    "colab_type": "code",
    "id": "AMXC8-KMVirw"
   },
   "outputs": [],
   "source": [
    "from sklearn.compose import ColumnTransformer\n",
    "from sklearn.preprocessing import OneHotEncoder\n",
    "ct = ColumnTransformer(transformers=[('encoder', OneHotEncoder(), [1])], remainder='passthrough')\n",
    "transformed=ct.fit_transform(X)\n",
    "X=pd.DataFrame(transformed,columns=ct.get_feature_names_out())"
   ]
  },
  {
   "cell_type": "code",
   "execution_count": 9,
   "metadata": {
    "colab": {
     "base_uri": "https://localhost:8080/",
     "height": 137
    },
    "colab_type": "code",
    "id": "ZcxwEon-b8nV",
    "outputId": "23a98af4-5e33-4b26-c27b-f06e3c5d2baf"
   },
   "outputs": [
    {
     "name": "stdout",
     "output_type": "stream",
     "text": [
      "     encoder__x1_France encoder__x1_Germany encoder__x1_Spain remainder__x0  \\\n",
      "0                   1.0                 0.0               0.0           619   \n",
      "1                   0.0                 0.0               1.0           608   \n",
      "2                   1.0                 0.0               0.0           502   \n",
      "3                   1.0                 0.0               0.0           699   \n",
      "4                   0.0                 0.0               1.0           850   \n",
      "...                 ...                 ...               ...           ...   \n",
      "9995                1.0                 0.0               0.0           771   \n",
      "9996                1.0                 0.0               0.0           516   \n",
      "9997                1.0                 0.0               0.0           709   \n",
      "9998                0.0                 1.0               0.0           772   \n",
      "9999                1.0                 0.0               0.0           792   \n",
      "\n",
      "     remainder__x2 remainder__x3 remainder__x4 remainder__x5 remainder__x6  \\\n",
      "0                0            42             2           0.0             1   \n",
      "1                0            41             1      83807.86             1   \n",
      "2                0            42             8      159660.8             3   \n",
      "3                0            39             1           0.0             2   \n",
      "4                0            43             2     125510.82             1   \n",
      "...            ...           ...           ...           ...           ...   \n",
      "9995             1            39             5           0.0             2   \n",
      "9996             1            35            10      57369.61             1   \n",
      "9997             0            36             7           0.0             1   \n",
      "9998             1            42             3      75075.31             2   \n",
      "9999             0            28             4     130142.79             1   \n",
      "\n",
      "     remainder__x7 remainder__x8 remainder__x9  \n",
      "0                1             1     101348.88  \n",
      "1                0             1     112542.58  \n",
      "2                1             0     113931.57  \n",
      "3                0             0      93826.63  \n",
      "4                1             1       79084.1  \n",
      "...            ...           ...           ...  \n",
      "9995             1             0      96270.64  \n",
      "9996             1             1     101699.77  \n",
      "9997             0             1      42085.58  \n",
      "9998             1             0      92888.52  \n",
      "9999             1             0      38190.78  \n",
      "\n",
      "[10000 rows x 12 columns]\n"
     ]
    }
   ],
   "source": [
    "print(X)"
   ]
  },
  {
   "cell_type": "markdown",
   "metadata": {
    "colab_type": "text",
    "id": "vHol938cW8zd"
   },
   "source": [
    "### Splitting the dataset into the Training set and Test set"
   ]
  },
  {
   "cell_type": "code",
   "execution_count": 10,
   "metadata": {
    "colab": {},
    "colab_type": "code",
    "id": "Z-TDt0Y_XEfc"
   },
   "outputs": [],
   "source": [
    "from sklearn.model_selection import train_test_split\n",
    "X_train, X_test, y_train, y_test = train_test_split(X,y,random_state=42,test_size=0.2)"
   ]
  },
  {
   "cell_type": "markdown",
   "metadata": {
    "colab_type": "text",
    "id": "RE_FcHyfV3TQ"
   },
   "source": [
    "### Feature Scaling"
   ]
  },
  {
   "cell_type": "code",
   "execution_count": 11,
   "metadata": {
    "colab": {},
    "colab_type": "code",
    "id": "ViCrE00rV8Sk"
   },
   "outputs": [],
   "source": [
    "from sklearn.preprocessing import StandardScaler\n",
    "sc = StandardScaler()\n",
    "X_train = sc.fit_transform(X_train)\n",
    "X_test = sc.transform(X_test)"
   ]
  },
  {
   "cell_type": "markdown",
   "metadata": {
    "colab_type": "text",
    "id": "-zfEzkRVXIwF"
   },
   "source": [
    "## Part 2 - Building the ANN"
   ]
  },
  {
   "cell_type": "markdown",
   "metadata": {
    "colab_type": "text",
    "id": "KvdeScabXtlB"
   },
   "source": [
    "### Initializing the ANN"
   ]
  },
  {
   "cell_type": "code",
   "execution_count": 12,
   "metadata": {
    "colab": {},
    "colab_type": "code",
    "id": "3dtrScHxXQox"
   },
   "outputs": [],
   "source": [
    "ann = keras.models.Sequential()"
   ]
  },
  {
   "cell_type": "markdown",
   "metadata": {
    "colab_type": "text",
    "id": "rP6urV6SX7kS"
   },
   "source": [
    "### Adding the input layer and the first hidden layer"
   ]
  },
  {
   "cell_type": "code",
   "execution_count": 13,
   "metadata": {
    "colab": {},
    "colab_type": "code",
    "id": "bppGycBXYCQr"
   },
   "outputs": [],
   "source": [
    "input_shape=X.shape[1]\n",
    "ann.add(keras.Input(shape=(input_shape,)))\n",
    "ann.add(layers.Dense(128,activation=\"relu\"))"
   ]
  },
  {
   "cell_type": "markdown",
   "metadata": {
    "colab_type": "text",
    "id": "BELWAc_8YJze"
   },
   "source": [
    "### Adding the second hidden layer"
   ]
  },
  {
   "cell_type": "code",
   "execution_count": 14,
   "metadata": {
    "colab": {},
    "colab_type": "code",
    "id": "JneR0u0sYRTd"
   },
   "outputs": [],
   "source": [
    "ann.add(layers.Dense(64,activation=\"relu\"))"
   ]
  },
  {
   "cell_type": "markdown",
   "metadata": {
    "colab_type": "text",
    "id": "OyNEe6RXYcU4"
   },
   "source": [
    "### Adding the output layer"
   ]
  },
  {
   "cell_type": "code",
   "execution_count": 15,
   "metadata": {
    "colab": {},
    "colab_type": "code",
    "id": "Cn3x41RBYfvY"
   },
   "outputs": [
    {
     "data": {
      "text/html": [
       "<pre style=\"white-space:pre;overflow-x:auto;line-height:normal;font-family:Menlo,'DejaVu Sans Mono',consolas,'Courier New',monospace\"><span style=\"font-weight: bold\">Model: \"sequential\"</span>\n",
       "</pre>\n"
      ],
      "text/plain": [
       "\u001b[1mModel: \"sequential\"\u001b[0m\n"
      ]
     },
     "metadata": {},
     "output_type": "display_data"
    },
    {
     "data": {
      "text/html": [
       "<pre style=\"white-space:pre;overflow-x:auto;line-height:normal;font-family:Menlo,'DejaVu Sans Mono',consolas,'Courier New',monospace\">┏━━━━━━━━━━━━━━━━━━━━━━━━━━━━━━━━━┳━━━━━━━━━━━━━━━━━━━━━━━━┳━━━━━━━━━━━━━━━┓\n",
       "┃<span style=\"font-weight: bold\"> Layer (type)                    </span>┃<span style=\"font-weight: bold\"> Output Shape           </span>┃<span style=\"font-weight: bold\">       Param # </span>┃\n",
       "┡━━━━━━━━━━━━━━━━━━━━━━━━━━━━━━━━━╇━━━━━━━━━━━━━━━━━━━━━━━━╇━━━━━━━━━━━━━━━┩\n",
       "│ dense (<span style=\"color: #0087ff; text-decoration-color: #0087ff\">Dense</span>)                   │ (<span style=\"color: #00d7ff; text-decoration-color: #00d7ff\">None</span>, <span style=\"color: #00af00; text-decoration-color: #00af00\">128</span>)            │         <span style=\"color: #00af00; text-decoration-color: #00af00\">1,664</span> │\n",
       "├─────────────────────────────────┼────────────────────────┼───────────────┤\n",
       "│ dense_1 (<span style=\"color: #0087ff; text-decoration-color: #0087ff\">Dense</span>)                 │ (<span style=\"color: #00d7ff; text-decoration-color: #00d7ff\">None</span>, <span style=\"color: #00af00; text-decoration-color: #00af00\">64</span>)             │         <span style=\"color: #00af00; text-decoration-color: #00af00\">8,256</span> │\n",
       "├─────────────────────────────────┼────────────────────────┼───────────────┤\n",
       "│ dense_2 (<span style=\"color: #0087ff; text-decoration-color: #0087ff\">Dense</span>)                 │ (<span style=\"color: #00d7ff; text-decoration-color: #00d7ff\">None</span>, <span style=\"color: #00af00; text-decoration-color: #00af00\">1</span>)              │            <span style=\"color: #00af00; text-decoration-color: #00af00\">65</span> │\n",
       "└─────────────────────────────────┴────────────────────────┴───────────────┘\n",
       "</pre>\n"
      ],
      "text/plain": [
       "┏━━━━━━━━━━━━━━━━━━━━━━━━━━━━━━━━━┳━━━━━━━━━━━━━━━━━━━━━━━━┳━━━━━━━━━━━━━━━┓\n",
       "┃\u001b[1m \u001b[0m\u001b[1mLayer (type)                   \u001b[0m\u001b[1m \u001b[0m┃\u001b[1m \u001b[0m\u001b[1mOutput Shape          \u001b[0m\u001b[1m \u001b[0m┃\u001b[1m \u001b[0m\u001b[1m      Param #\u001b[0m\u001b[1m \u001b[0m┃\n",
       "┡━━━━━━━━━━━━━━━━━━━━━━━━━━━━━━━━━╇━━━━━━━━━━━━━━━━━━━━━━━━╇━━━━━━━━━━━━━━━┩\n",
       "│ dense (\u001b[38;5;33mDense\u001b[0m)                   │ (\u001b[38;5;45mNone\u001b[0m, \u001b[38;5;34m128\u001b[0m)            │         \u001b[38;5;34m1,664\u001b[0m │\n",
       "├─────────────────────────────────┼────────────────────────┼───────────────┤\n",
       "│ dense_1 (\u001b[38;5;33mDense\u001b[0m)                 │ (\u001b[38;5;45mNone\u001b[0m, \u001b[38;5;34m64\u001b[0m)             │         \u001b[38;5;34m8,256\u001b[0m │\n",
       "├─────────────────────────────────┼────────────────────────┼───────────────┤\n",
       "│ dense_2 (\u001b[38;5;33mDense\u001b[0m)                 │ (\u001b[38;5;45mNone\u001b[0m, \u001b[38;5;34m1\u001b[0m)              │            \u001b[38;5;34m65\u001b[0m │\n",
       "└─────────────────────────────────┴────────────────────────┴───────────────┘\n"
      ]
     },
     "metadata": {},
     "output_type": "display_data"
    },
    {
     "data": {
      "text/html": [
       "<pre style=\"white-space:pre;overflow-x:auto;line-height:normal;font-family:Menlo,'DejaVu Sans Mono',consolas,'Courier New',monospace\"><span style=\"font-weight: bold\"> Total params: </span><span style=\"color: #00af00; text-decoration-color: #00af00\">9,985</span> (39.00 KB)\n",
       "</pre>\n"
      ],
      "text/plain": [
       "\u001b[1m Total params: \u001b[0m\u001b[38;5;34m9,985\u001b[0m (39.00 KB)\n"
      ]
     },
     "metadata": {},
     "output_type": "display_data"
    },
    {
     "data": {
      "text/html": [
       "<pre style=\"white-space:pre;overflow-x:auto;line-height:normal;font-family:Menlo,'DejaVu Sans Mono',consolas,'Courier New',monospace\"><span style=\"font-weight: bold\"> Trainable params: </span><span style=\"color: #00af00; text-decoration-color: #00af00\">9,985</span> (39.00 KB)\n",
       "</pre>\n"
      ],
      "text/plain": [
       "\u001b[1m Trainable params: \u001b[0m\u001b[38;5;34m9,985\u001b[0m (39.00 KB)\n"
      ]
     },
     "metadata": {},
     "output_type": "display_data"
    },
    {
     "data": {
      "text/html": [
       "<pre style=\"white-space:pre;overflow-x:auto;line-height:normal;font-family:Menlo,'DejaVu Sans Mono',consolas,'Courier New',monospace\"><span style=\"font-weight: bold\"> Non-trainable params: </span><span style=\"color: #00af00; text-decoration-color: #00af00\">0</span> (0.00 B)\n",
       "</pre>\n"
      ],
      "text/plain": [
       "\u001b[1m Non-trainable params: \u001b[0m\u001b[38;5;34m0\u001b[0m (0.00 B)\n"
      ]
     },
     "metadata": {},
     "output_type": "display_data"
    }
   ],
   "source": [
    "ann.add(layers.Dense(1,activation=\"sigmoid\"))\n",
    "ann.summary()"
   ]
  },
  {
   "cell_type": "markdown",
   "metadata": {
    "colab_type": "text",
    "id": "JT4u2S1_Y4WG"
   },
   "source": [
    "## Part 3 - Training the ANN"
   ]
  },
  {
   "cell_type": "markdown",
   "metadata": {
    "colab_type": "text",
    "id": "8GWlJChhY_ZI"
   },
   "source": [
    "### Compiling the ANN"
   ]
  },
  {
   "cell_type": "code",
   "execution_count": 17,
   "metadata": {
    "colab": {},
    "colab_type": "code",
    "id": "fG3RrwDXZEaS"
   },
   "outputs": [],
   "source": [
    "from keras.optimizers import Adam\n",
    "ann.compile(loss=\"binary_crossentropy\",optimizer=Adam(learning_rate=3e-4),metrics=[\"accuracy\"])"
   ]
  },
  {
   "cell_type": "markdown",
   "metadata": {
    "colab_type": "text",
    "id": "0QR_G5u7ZLSM"
   },
   "source": [
    "### Training the ANN on the Training set"
   ]
  },
  {
   "cell_type": "code",
   "execution_count": 18,
   "metadata": {
    "colab": {
     "base_uri": "https://localhost:8080/",
     "height": 1000
    },
    "colab_type": "code",
    "id": "nHZ-LKv_ZRb3",
    "outputId": "718cc4b0-b5aa-40f0-9b20-d3d31730a531"
   },
   "outputs": [
    {
     "name": "stdout",
     "output_type": "stream",
     "text": [
      "Epoch 1/50\n",
      "200/200 - 0s - 2ms/step - accuracy: 0.7934 - loss: 0.4838 - val_accuracy: 0.8225 - val_loss: 0.4189\n",
      "Epoch 2/50\n",
      "200/200 - 0s - 455us/step - accuracy: 0.8216 - loss: 0.4182 - val_accuracy: 0.8438 - val_loss: 0.3954\n",
      "Epoch 3/50\n",
      "200/200 - 0s - 458us/step - accuracy: 0.8384 - loss: 0.3941 - val_accuracy: 0.8519 - val_loss: 0.3791\n",
      "Epoch 4/50\n",
      "200/200 - 0s - 458us/step - accuracy: 0.8494 - loss: 0.3733 - val_accuracy: 0.8556 - val_loss: 0.3667\n",
      "Epoch 5/50\n",
      "200/200 - 0s - 465us/step - accuracy: 0.8545 - loss: 0.3584 - val_accuracy: 0.8587 - val_loss: 0.3590\n",
      "Epoch 6/50\n",
      "200/200 - 0s - 460us/step - accuracy: 0.8591 - loss: 0.3498 - val_accuracy: 0.8562 - val_loss: 0.3543\n",
      "Epoch 7/50\n",
      "200/200 - 0s - 458us/step - accuracy: 0.8631 - loss: 0.3437 - val_accuracy: 0.8575 - val_loss: 0.3524\n",
      "Epoch 8/50\n",
      "200/200 - 0s - 460us/step - accuracy: 0.8628 - loss: 0.3397 - val_accuracy: 0.8550 - val_loss: 0.3494\n",
      "Epoch 9/50\n",
      "200/200 - 0s - 459us/step - accuracy: 0.8625 - loss: 0.3364 - val_accuracy: 0.8587 - val_loss: 0.3465\n",
      "Epoch 10/50\n",
      "200/200 - 0s - 458us/step - accuracy: 0.8620 - loss: 0.3348 - val_accuracy: 0.8587 - val_loss: 0.3456\n",
      "Epoch 11/50\n",
      "200/200 - 0s - 460us/step - accuracy: 0.8639 - loss: 0.3323 - val_accuracy: 0.8581 - val_loss: 0.3463\n",
      "Epoch 12/50\n",
      "200/200 - 0s - 477us/step - accuracy: 0.8659 - loss: 0.3294 - val_accuracy: 0.8569 - val_loss: 0.3454\n",
      "Epoch 13/50\n",
      "200/200 - 0s - 478us/step - accuracy: 0.8648 - loss: 0.3283 - val_accuracy: 0.8550 - val_loss: 0.3442\n",
      "Epoch 14/50\n",
      "200/200 - 0s - 482us/step - accuracy: 0.8650 - loss: 0.3264 - val_accuracy: 0.8550 - val_loss: 0.3432\n",
      "Epoch 15/50\n",
      "200/200 - 0s - 479us/step - accuracy: 0.8662 - loss: 0.3247 - val_accuracy: 0.8562 - val_loss: 0.3420\n",
      "Epoch 16/50\n",
      "200/200 - 0s - 473us/step - accuracy: 0.8669 - loss: 0.3230 - val_accuracy: 0.8562 - val_loss: 0.3419\n",
      "Epoch 17/50\n",
      "200/200 - 0s - 462us/step - accuracy: 0.8662 - loss: 0.3219 - val_accuracy: 0.8575 - val_loss: 0.3418\n",
      "Epoch 18/50\n",
      "200/200 - 0s - 462us/step - accuracy: 0.8705 - loss: 0.3211 - val_accuracy: 0.8544 - val_loss: 0.3403\n",
      "Epoch 19/50\n",
      "200/200 - 0s - 463us/step - accuracy: 0.8677 - loss: 0.3195 - val_accuracy: 0.8531 - val_loss: 0.3424\n",
      "Epoch 20/50\n",
      "200/200 - 0s - 462us/step - accuracy: 0.8698 - loss: 0.3182 - val_accuracy: 0.8587 - val_loss: 0.3431\n",
      "Epoch 21/50\n",
      "200/200 - 0s - 466us/step - accuracy: 0.8703 - loss: 0.3174 - val_accuracy: 0.8506 - val_loss: 0.3410\n",
      "Epoch 22/50\n",
      "200/200 - 0s - 482us/step - accuracy: 0.8711 - loss: 0.3164 - val_accuracy: 0.8581 - val_loss: 0.3408\n",
      "Epoch 23/50\n",
      "200/200 - 0s - 479us/step - accuracy: 0.8702 - loss: 0.3144 - val_accuracy: 0.8575 - val_loss: 0.3411\n",
      "Epoch 24/50\n",
      "200/200 - 0s - 479us/step - accuracy: 0.8719 - loss: 0.3135 - val_accuracy: 0.8531 - val_loss: 0.3420\n",
      "Epoch 25/50\n",
      "200/200 - 0s - 460us/step - accuracy: 0.8697 - loss: 0.3127 - val_accuracy: 0.8506 - val_loss: 0.3404\n",
      "Epoch 26/50\n",
      "200/200 - 0s - 468us/step - accuracy: 0.8697 - loss: 0.3118 - val_accuracy: 0.8519 - val_loss: 0.3402\n",
      "Epoch 27/50\n",
      "200/200 - 0s - 461us/step - accuracy: 0.8695 - loss: 0.3102 - val_accuracy: 0.8537 - val_loss: 0.3430\n",
      "Epoch 28/50\n",
      "200/200 - 0s - 460us/step - accuracy: 0.8714 - loss: 0.3093 - val_accuracy: 0.8581 - val_loss: 0.3406\n",
      "Epoch 29/50\n",
      "200/200 - 0s - 465us/step - accuracy: 0.8720 - loss: 0.3089 - val_accuracy: 0.8500 - val_loss: 0.3413\n",
      "Epoch 30/50\n",
      "200/200 - 0s - 484us/step - accuracy: 0.8712 - loss: 0.3071 - val_accuracy: 0.8606 - val_loss: 0.3423\n",
      "Epoch 31/50\n",
      "200/200 - 0s - 484us/step - accuracy: 0.8703 - loss: 0.3063 - val_accuracy: 0.8550 - val_loss: 0.3417\n",
      "Epoch 32/50\n",
      "200/200 - 0s - 467us/step - accuracy: 0.8737 - loss: 0.3045 - val_accuracy: 0.8556 - val_loss: 0.3407\n",
      "Epoch 33/50\n",
      "200/200 - 0s - 466us/step - accuracy: 0.8741 - loss: 0.3044 - val_accuracy: 0.8556 - val_loss: 0.3404\n",
      "Epoch 34/50\n",
      "200/200 - 0s - 480us/step - accuracy: 0.8736 - loss: 0.3034 - val_accuracy: 0.8581 - val_loss: 0.3413\n",
      "Epoch 35/50\n",
      "200/200 - 0s - 486us/step - accuracy: 0.8731 - loss: 0.3024 - val_accuracy: 0.8594 - val_loss: 0.3432\n",
      "Epoch 36/50\n",
      "200/200 - 0s - 480us/step - accuracy: 0.8731 - loss: 0.3009 - val_accuracy: 0.8575 - val_loss: 0.3422\n",
      "Epoch 37/50\n",
      "200/200 - 0s - 480us/step - accuracy: 0.8748 - loss: 0.3001 - val_accuracy: 0.8525 - val_loss: 0.3413\n",
      "Epoch 38/50\n",
      "200/200 - 0s - 479us/step - accuracy: 0.8775 - loss: 0.2982 - val_accuracy: 0.8581 - val_loss: 0.3514\n",
      "Epoch 39/50\n",
      "200/200 - 0s - 477us/step - accuracy: 0.8742 - loss: 0.2986 - val_accuracy: 0.8575 - val_loss: 0.3444\n",
      "Epoch 40/50\n",
      "200/200 - 0s - 479us/step - accuracy: 0.8758 - loss: 0.2978 - val_accuracy: 0.8556 - val_loss: 0.3428\n",
      "Epoch 41/50\n",
      "200/200 - 0s - 475us/step - accuracy: 0.8759 - loss: 0.2960 - val_accuracy: 0.8556 - val_loss: 0.3430\n",
      "Epoch 42/50\n",
      "200/200 - 0s - 481us/step - accuracy: 0.8761 - loss: 0.2958 - val_accuracy: 0.8556 - val_loss: 0.3417\n",
      "Epoch 43/50\n",
      "200/200 - 0s - 485us/step - accuracy: 0.8778 - loss: 0.2943 - val_accuracy: 0.8550 - val_loss: 0.3438\n",
      "Epoch 44/50\n",
      "200/200 - 0s - 487us/step - accuracy: 0.8761 - loss: 0.2931 - val_accuracy: 0.8537 - val_loss: 0.3422\n",
      "Epoch 45/50\n",
      "200/200 - 0s - 472us/step - accuracy: 0.8777 - loss: 0.2926 - val_accuracy: 0.8587 - val_loss: 0.3426\n",
      "Epoch 46/50\n",
      "200/200 - 0s - 480us/step - accuracy: 0.8791 - loss: 0.2918 - val_accuracy: 0.8562 - val_loss: 0.3440\n",
      "Epoch 47/50\n",
      "200/200 - 0s - 484us/step - accuracy: 0.8773 - loss: 0.2905 - val_accuracy: 0.8556 - val_loss: 0.3452\n",
      "Epoch 48/50\n",
      "200/200 - 0s - 478us/step - accuracy: 0.8819 - loss: 0.2897 - val_accuracy: 0.8525 - val_loss: 0.3411\n",
      "Epoch 49/50\n",
      "200/200 - 0s - 467us/step - accuracy: 0.8792 - loss: 0.2893 - val_accuracy: 0.8562 - val_loss: 0.3434\n",
      "Epoch 50/50\n",
      "200/200 - 0s - 464us/step - accuracy: 0.8814 - loss: 0.2870 - val_accuracy: 0.8569 - val_loss: 0.3454\n"
     ]
    }
   ],
   "source": [
    "history=ann.fit(X_train,y_train,epochs=50,verbose=2,validation_split=0.2)"
   ]
  },
  {
   "cell_type": "markdown",
   "metadata": {
    "colab_type": "text",
    "id": "tJj5k2MxZga3"
   },
   "source": [
    "## Part 4 - Making the predictions and evaluating the model"
   ]
  },
  {
   "cell_type": "markdown",
   "metadata": {
    "colab_type": "text",
    "id": "84QFoqGYeXHL"
   },
   "source": [
    "### Predicting the result of a single observation"
   ]
  },
  {
   "cell_type": "markdown",
   "metadata": {
    "colab_type": "text",
    "id": "CGRo3eacgDdC"
   },
   "source": [
    "**Extra**\n",
    "\n",
    "Use our ANN model to predict if the customer with the following informations will leave the bank: \n",
    "\n",
    "Geography: France\n",
    "\n",
    "Credit Score: 600\n",
    "\n",
    "Gender: Male\n",
    "\n",
    "Age: 40 years old\n",
    "\n",
    "Tenure: 3 years\n",
    "\n",
    "Balance: \\$ 60000\n",
    "\n",
    "Number of Products: 2\n",
    "\n",
    "Does this customer have a credit card ? Yes\n",
    "\n",
    "Is this customer an Active Member: Yes\n",
    "\n",
    "Estimated Salary: \\$ 50000\n",
    "\n",
    "So, should we say goodbye to that customer ?"
   ]
  },
  {
   "cell_type": "markdown",
   "metadata": {
    "colab_type": "text",
    "id": "ZhU1LTgPg-kH"
   },
   "source": [
    "**Solution**"
   ]
  },
  {
   "cell_type": "code",
   "execution_count": 21,
   "metadata": {
    "colab": {
     "base_uri": "https://localhost:8080/",
     "height": 34
    },
    "colab_type": "code",
    "id": "2d8IoCCkeWGL",
    "outputId": "957f3970-e197-4c3b-a150-7f69dc567f5d"
   },
   "outputs": [
    {
     "name": "stdout",
     "output_type": "stream",
     "text": [
      "[[1]]\n",
      "Wlcm\n"
     ]
    }
   ],
   "source": [
    "x_test=pd.DataFrame([[1, 0, 0, 600, 1, 40, 3, 60000, 2, 1, 1, 50000]])\n",
    "m=ann.predict(x_test,verbose=0)\n",
    "n=(m>0.5).astype(int)\n",
    "print(n)\n",
    "if n[0][0]==0:\n",
    "    print(\"Goodbye\")\n",
    "else:\n",
    "    print(\"Wlcm\")"
   ]
  },
  {
   "cell_type": "markdown",
   "metadata": {
    "colab_type": "text",
    "id": "u7yx47jPZt11"
   },
   "source": [
    "### Predicting the Test set results"
   ]
  },
  {
   "cell_type": "code",
   "execution_count": 20,
   "metadata": {
    "colab": {
     "base_uri": "https://localhost:8080/",
     "height": 137
    },
    "colab_type": "code",
    "id": "nIyEeQdRZwgs",
    "outputId": "82330ba8-9bdc-4fd1-d3cf-b6d78ee7c2a3"
   },
   "outputs": [
    {
     "name": "stdout",
     "output_type": "stream",
     "text": [
      "[[0]\n",
      " [0]\n",
      " [0]\n",
      " ...\n",
      " [1]\n",
      " [0]\n",
      " [0]]\n"
     ]
    }
   ],
   "source": [
    "a=ann.predict(X_test,verbose=0)\n",
    "b=(a>0.5).astype(int)\n",
    "print(b)"
   ]
  },
  {
   "cell_type": "markdown",
   "metadata": {
    "colab_type": "text",
    "id": "o0oyfLWoaEGw"
   },
   "source": [
    "### Making the Confusion Matrix"
   ]
  },
  {
   "cell_type": "code",
   "execution_count": 22,
   "metadata": {
    "colab": {
     "base_uri": "https://localhost:8080/",
     "height": 68
    },
    "colab_type": "code",
    "id": "ci6K_r6LaF6P",
    "outputId": "4d854e9e-22d5-432f-f6e5-a102fe3ae0bd"
   },
   "outputs": [
    {
     "name": "stdout",
     "output_type": "stream",
     "text": [
      "[[1523   84]\n",
      " [ 200  193]]\n",
      "accuracy = 85.8 %\n"
     ]
    }
   ],
   "source": [
    "from sklearn.metrics import confusion_matrix, accuracy_score\n",
    "print(confusion_matrix(y_test,b))\n",
    "print(f\"accuracy = {accuracy_score(y_test,b)*100} %\")"
   ]
  },
  {
   "cell_type": "markdown",
   "metadata": {},
   "source": [
    "write down about precision recall f1-score, why is it better than just accuracy, what are some other interesting metrics u can find"
   ]
  }
 ],
 "metadata": {
  "colab": {
   "collapsed_sections": [],
   "name": "artificial_neural_network.ipynb",
   "provenance": [],
   "toc_visible": true
  },
  "kernelspec": {
   "display_name": "Python 3 (ipykernel)",
   "language": "python",
   "name": "python3"
  },
  "language_info": {
   "codemirror_mode": {
    "name": "ipython",
    "version": 3
   },
   "file_extension": ".py",
   "mimetype": "text/x-python",
   "name": "python",
   "nbconvert_exporter": "python",
   "pygments_lexer": "ipython3",
   "version": "3.11.11"
  }
 },
 "nbformat": 4,
 "nbformat_minor": 1
}
